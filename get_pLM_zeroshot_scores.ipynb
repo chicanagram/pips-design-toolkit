{
 "cells": [
  {
   "cell_type": "markdown",
   "id": "bb5c78db-5ced-4f11-bbc4-e7a211105ccd",
   "metadata": {},
   "source": [
    "# Import modules"
   ]
  },
  {
   "cell_type": "code",
   "execution_count": null,
   "id": "76846183-aede-4999-ac8a-8d4ebd45160a",
   "metadata": {},
   "outputs": [],
   "source": [
    "import os; cwd = os.getcwd()\n",
    "if cwd.split('/')[-1]=='pips-design-toolkit': os.chdir('./tools')\n",
    "from utils.variables import data_folder\n",
    "from get_pLM_zeroshot_scores import PLMZero"
   ]
  },
  {
   "cell_type": "markdown",
   "id": "627a986e-378f-46fa-af5a-9c7910837c9b",
   "metadata": {},
   "source": [
    "# Specify input files needed\n",
    "Specify the filenames for:\n",
    "* *MSA*: '`<msa_fname>`.fasta' Multiple Sequence Alignment file for found in 'data/msa/' directory. Reference sequence should be the first entry in the MSA.\n",
    "* *Reference sequence name*: '`<ref_seq_name>`.fasta' file found in 'data/sequences/'/\n",
    "* *Output filename*: prefix for '`<output_fname>`.csv' results found in 'data/conservation_and_distance/'.\n",
    "* *YASARA scene filename*: prefix for '`<sce_fname>`.sce' yasara structure file found in 'data/sce/'. This should contain the receptor (as Object 1) and ligand (as Object 2).\n",
    "* *Position offset*: Integer specifying the position offset of the first residue in the sequence (if position_offset = 0, Residue numbering starts from 1)."
   ]
  },
  {
   "cell_type": "code",
   "execution_count": null,
   "id": "0f8e85c0-9c90-430a-920e-bd6b920a13bb",
   "metadata": {},
   "outputs": [],
   "source": [
    "model_type = 'esm2'\n",
    "data_subfolder = ''\n",
    "input_file = 'expdata/GOh1052_mutagenesis.csv' \n",
    "msa_fpath = None \n",
    "get_mutations=True\n",
    "get_embeddings = {'res_all': True, 'res_mut': True,'res_avg': True}\n",
    "deduplicate_sequences = True\n",
    "skip_plm_processing=False\n",
    "skip_logits_features=False\n",
    "batch_size = 1\n",
    "csv_name_col = 'protein_name'\n",
    "sep = '+'"
   ]
  },
  {
   "cell_type": "markdown",
   "id": "ee17405a-8452-4fe1-9992-5534990d2108",
   "metadata": {},
   "source": [
    "# Get zero-shot scores with PLM "
   ]
  },
  {
   "cell_type": "code",
   "execution_count": null,
   "id": "fccb3d80-cc08-4734-a51b-724da7dc8d8c",
   "metadata": {},
   "outputs": [],
   "source": [
    "# initialize PLMZero class\n",
    "plm_zeroshot = PLMZero(\n",
    "    model_type,\n",
    "    msa_fpath,\n",
    "    data_folder,\n",
    "    data_subfolder,\n",
    "    get_mutations,\n",
    "    get_embeddings,\n",
    "    deduplicate_sequences,\n",
    "    skip_plm_processing,\n",
    "    skip_logits_features\n",
    "    )\n",
    "\n",
    "# get PLM inputs\n",
    "inputs_all = plm_zeroshot.get_inputs(input_file, batch_size, csv_name_col, sep)\n",
    "\n",
    "# process through pLM\n",
    "plm_zeroshot.run_pLM_processing(inputs_all)\n",
    "\n",
    "# parse results for each sequence in inputs_all\n",
    "plm_zeroshot.parse_plm_results(inputs_all, get_llr_entropy_plot=False)"
   ]
  },
  {
   "cell_type": "code",
   "execution_count": null,
   "id": "e83147fa-99a7-4ca6-8f77-dbd272e82a24",
   "metadata": {},
   "outputs": [],
   "source": []
  }
 ],
 "metadata": {
  "kernelspec": {
   "display_name": "Python 3 (ipykernel)",
   "language": "python",
   "name": "python3"
  },
  "language_info": {
   "codemirror_mode": {
    "name": "ipython",
    "version": 3
   },
   "file_extension": ".py",
   "mimetype": "text/x-python",
   "name": "python",
   "nbconvert_exporter": "python",
   "pygments_lexer": "ipython3",
   "version": "3.11.13"
  }
 },
 "nbformat": 4,
 "nbformat_minor": 5
}
