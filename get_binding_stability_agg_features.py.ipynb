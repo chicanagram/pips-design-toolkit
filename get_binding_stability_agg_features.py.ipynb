{
 "cells": [
  {
   "cell_type": "markdown",
   "id": "bb5c78db-5ced-4f11-bbc4-e7a211105ccd",
   "metadata": {},
   "source": [
    "# Import modules"
   ]
  },
  {
   "cell_type": "code",
   "execution_count": null,
   "id": "76846183-aede-4999-ac8a-8d4ebd45160a",
   "metadata": {},
   "outputs": [],
   "source": [
    "import os; cwd = os.getcwd()\n",
    "if cwd.split('/')[-1]=='pips-design-toolkit': os.chdir('./tools')\n",
    "from utils.utils import data_folder\n",
    "from feature_extraction.binding import get_yasara_binding_features\n",
    "from feature_extraction.stability import  get_yasara_foldx_stability_features\n",
    "from feature_extraction.aggregation import  get_aggregation_features"
   ]
  },
  {
   "cell_type": "markdown",
   "id": "627a986e-378f-46fa-af5a-9c7910837c9b",
   "metadata": {},
   "source": [
    "# Specify input files needed\n",
    "Specify the filenames for:\n",
    "* *MSA*: '`<msa_fname>`.fasta' Multiple Sequence Alignment file for found in 'data/msa/' directory. Reference sequence should be the first entry in the MSA.\n",
    "* *Reference sequence name*: '`<ref_seq_name>`.fasta' file found in 'data/sequences/'/\n",
    "* *Output filename*: prefix for '`<output_fname>`.csv' results found in 'data/conservation_and_distance/'.\n",
    "* *YASARA scene filename*: prefix for '`<sce_fname>`.sce' yasara structure file found in 'data/sce/'. This should contain the receptor (as Object 1) and ligand (as Object 2).\n",
    "* *Position offset*: Integer specifying the position offset of the first residue in the sequence (if position_offset = 0, Residue numbering starts from 1)."
   ]
  },
  {
   "cell_type": "code",
   "execution_count": null,
   "id": "0f8e85c0-9c90-430a-920e-bd6b920a13bb",
   "metadata": {},
   "outputs": [],
   "source": [
    "# set inputs and parameters\n",
    "input_fname = 'GOh1052_mutPos_DomainIII.txt'\n",
    "input_dir = data_folder + 'feature_extraction/Input/'\n",
    "output_dir = data_folder + 'feature_extraction/'"
   ]
  },
  {
   "cell_type": "markdown",
   "id": "ee17405a-8452-4fe1-9992-5534990d2108",
   "metadata": {},
   "source": [
    "# Get Binding features with YASARA\n",
    "Prerequisites: \n",
    "* YASARA Structure installation (with necessary license)\n",
    "* 'yasara.py' file in './tools/', with yasara_dir location specified"
   ]
  },
  {
   "cell_type": "code",
   "execution_count": null,
   "id": "fccb3d80-cc08-4734-a51b-724da7dc8d8c",
   "metadata": {},
   "outputs": [],
   "source": [
    "# set inputs and parameters\n",
    "struct_fname = 'S152_1GOG_GOh1001b_postOpt'\n",
    "struct_dir = input_dir\n",
    "\n",
    "# get binding ddG and energy features\n",
    "get_yasara_binding_features(\n",
    "    input_fname,\n",
    "    struct_fname,\n",
    "    input_dir,\n",
    "    struct_dir,\n",
    "    output_dir,\n",
    "    nrep=5\n",
    ")"
   ]
  },
  {
   "cell_type": "markdown",
   "id": "5454b94e-cf22-40f4-9c13-ed345afaf5fa",
   "metadata": {},
   "source": [
    "# Get Stability features with YASARA + FoldX\n",
    "Prerequisites: \n",
    "* YASARA Structure installation (see cell above)\n",
    "* FoldX installation (with necessary license)"
   ]
  },
  {
   "cell_type": "code",
   "execution_count": null,
   "id": "7ad1eb1a-fc4b-48f0-9d8d-fe9b5d648852",
   "metadata": {},
   "outputs": [],
   "source": [
    "# define directories & filenames\n",
    "input_pdb_fname = 'YASARA_2EIE_GOh1052.pdb'\n",
    "output_fname = 'DDGstability_GOh1052.csv'\n",
    "pdb_dir = input_dir\n",
    "\n",
    "# get stability ddG and energy features\n",
    "get_yasara_foldx_stability_features(\n",
    "        input_fname,\n",
    "        input_pdb_fname,\n",
    "        output_fname,\n",
    "        input_dir,\n",
    "        pdb_dir,\n",
    "        output_dir,\n",
    "        remove_existing_dir=False,\n",
    "        receptor_molname='A',\n",
    ")"
   ]
  },
  {
   "cell_type": "markdown",
   "id": "d5063854-4a47-4ddd-99ee-41b35dd9f000",
   "metadata": {},
   "source": [
    "# Get Aggregation features"
   ]
  },
  {
   "cell_type": "markdown",
   "id": "02ca4e14-9433-4dc4-920e-9ae13a55fe75",
   "metadata": {},
   "source": [
    "### Amyloid aggregation prediction with Waltz"
   ]
  },
  {
   "cell_type": "code",
   "execution_count": null,
   "id": "2acb6709-b8a5-48e4-9a42-4128b53bf8f5",
   "metadata": {},
   "outputs": [],
   "source": []
  },
  {
   "cell_type": "markdown",
   "id": "db4971a8-ac13-4d5c-ba26-ee11199de66d",
   "metadata": {},
   "source": [
    "### Amorphous aggregation prediction with Tango\n",
    "Prerequisites: "
   ]
  },
  {
   "cell_type": "code",
   "execution_count": null,
   "id": "5eedaa98-caed-45da-97f7-028b9ffe94af",
   "metadata": {},
   "outputs": [],
   "source": []
  }
 ],
 "metadata": {
  "kernelspec": {
   "display_name": "Python 3 (ipykernel)",
   "language": "python",
   "name": "python3"
  },
  "language_info": {
   "codemirror_mode": {
    "name": "ipython",
    "version": 3
   },
   "file_extension": ".py",
   "mimetype": "text/x-python",
   "name": "python",
   "nbconvert_exporter": "python",
   "pygments_lexer": "ipython3",
   "version": "3.11.13"
  }
 },
 "nbformat": 4,
 "nbformat_minor": 5
}
