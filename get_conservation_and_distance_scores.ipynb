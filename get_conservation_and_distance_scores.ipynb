{
 "cells": [
  {
   "cell_type": "markdown",
   "id": "bb5c78db-5ced-4f11-bbc4-e7a211105ccd",
   "metadata": {},
   "source": [
    "# Import modules"
   ]
  },
  {
   "cell_type": "code",
   "execution_count": 1,
   "id": "76846183-aede-4999-ac8a-8d4ebd45160a",
   "metadata": {},
   "outputs": [],
   "source": [
    "import os; cwd = os.getcwd()\n",
    "if cwd.split('/')[-1]=='pips-design-toolkit': os.chdir('./tools')\n",
    "from utils.variables import data_folder\n",
    "from utils.utils import get_ref_seq_idxs_aa_from_msa\n",
    "from get_conservation_and_distance_scores import ShanEntropy, SIFT, DistResSub"
   ]
  },
  {
   "cell_type": "markdown",
   "id": "627a986e-378f-46fa-af5a-9c7910837c9b",
   "metadata": {},
   "source": [
    "# Specify input files needed\n",
    "Specify the filenames for:\n",
    "* *MSA*: '`<msa_fname>`.fasta' Multiple Sequence Alignment file for found in 'data/msa/' directory. Reference sequence should be the first entry in the MSA.\n",
    "* *Reference sequence name*: '`<ref_seq_name>`.fasta' file found in 'data/sequences/'/\n",
    "* *Output filename*: prefix for '`<output_fname>`.csv' results found in 'data/conservation_and_distance/'.\n",
    "* *YASARA scene filename*: prefix for '`<sce_fname>`.sce' yasara structure file found in 'data/sce/'. This should contain the receptor (as Object 1) and ligand (as Object 2).\n",
    "* *Position offset*: Integer specifying the position offset of the first residue in the sequence (if position_offset = 0, Residue numbering starts from 1)."
   ]
  },
  {
   "cell_type": "code",
   "execution_count": 2,
   "id": "0f8e85c0-9c90-430a-920e-bd6b920a13bb",
   "metadata": {},
   "outputs": [
    {
     "name": "stdout",
     "output_type": "stream",
     "text": [
      "F is in MSA: False\n",
      "G is in MSA: False\n",
      "G is in MSA: False\n",
      "A is in MSA: False\n",
      "L is in MSA: False\n",
      "O is in MSA: False\n",
      "X is in MSA: False\n"
     ]
    }
   ],
   "source": [
    "msa_fname = 'GOh1052_msa'\n",
    "ref_seq_name = 'FGGALOX'\n",
    "output_fname = 'GOh1052'\n",
    "sce_fname = 'S152_1GOG_GOh1001b_postOpt'  # \"S152_preOpt_1GOG_GOh1001b_preOpt.sce\"\n",
    "position_offset = 23 # 0\n",
    "_, ref_seq, ref_seq_idxs = get_ref_seq_idxs_aa_from_msa(data_folder+'msa/'+msa_fname+'.fasta', ref_seq_name)"
   ]
  },
  {
   "cell_type": "markdown",
   "id": "ee17405a-8452-4fe1-9992-5534990d2108",
   "metadata": {},
   "source": [
    "# Calculate Shannon Entropies"
   ]
  },
  {
   "cell_type": "code",
   "execution_count": 3,
   "id": "fccb3d80-cc08-4734-a51b-724da7dc8d8c",
   "metadata": {},
   "outputs": [
    {
     "name": "stdout",
     "output_type": "stream",
     "text": [
      "Saved Shannon Entropy scores to: ../data/conservation_and_distance/GOh1052_shanms.csv\n"
     ]
    }
   ],
   "source": [
    "ShanEntropy(msa_fname, output_fname, ref_seq_idxs, ref_seq, position_offset)"
   ]
  },
  {
   "cell_type": "markdown",
   "id": "5454b94e-cf22-40f4-9c13-ed345afaf5fa",
   "metadata": {},
   "source": [
    "# Calculate SIFT scores "
   ]
  },
  {
   "cell_type": "code",
   "execution_count": 4,
   "id": "7ad1eb1a-fc4b-48f0-9d8d-fe9b5d648852",
   "metadata": {},
   "outputs": [
    {
     "name": "stdout",
     "output_type": "stream",
     "text": [
      "Saved fasta file to ../data/msa/GOh1052_msa_FGGALOX.fasta\n"
     ]
    },
    {
     "name": "stderr",
     "output_type": "stream",
     "text": [
      "/Users/charmainechia/miniconda3/envs/pips-design-toolkit/lib/python3.11/site-packages/requests/__init__.py:86: RequestsDependencyWarning: Unable to find acceptable character detection dependency (chardet or charset_normalizer).\n",
      "  warnings.warn(\n"
     ]
    },
    {
     "name": "stdout",
     "output_type": "stream",
     "text": [
      "Uploaded fasta msa.\n",
      "Clicked Submit.\n",
      "Obtained results.\n",
      "Saved SIFT scores to: ../data/conservation_and_distance/GOh1052_sift.csv\n"
     ]
    }
   ],
   "source": [
    "SIFT(msa_fname, output_fname, ref_seq_name, position_offset)"
   ]
  },
  {
   "cell_type": "markdown",
   "id": "d5063854-4a47-4ddd-99ee-41b35dd9f000",
   "metadata": {},
   "source": [
    "# Calculate distance to ligand"
   ]
  },
  {
   "cell_type": "code",
   "execution_count": 6,
   "id": "2acb6709-b8a5-48e4-9a42-4128b53bf8f5",
   "metadata": {},
   "outputs": [
    {
     "name": "stdout",
     "output_type": "stream",
     "text": [
      "Started YASARA\n",
      "Loaded docked structure\n",
      "# of residues: 639\n",
      "Saved distance scores to: ../data/conservation_and_distance/GOh1052_distance.csv\n"
     ]
    }
   ],
   "source": [
    "DistResSub(sce_fname, output_fname, position_offset)"
   ]
  },
  {
   "cell_type": "code",
   "execution_count": null,
   "id": "0b2e5b0e-508e-492e-80b5-0c6a8ad4a90b",
   "metadata": {},
   "outputs": [],
   "source": []
  }
 ],
 "metadata": {
  "kernelspec": {
   "display_name": "Python 3 (ipykernel)",
   "language": "python",
   "name": "python3"
  },
  "language_info": {
   "codemirror_mode": {
    "name": "ipython",
    "version": 3
   },
   "file_extension": ".py",
   "mimetype": "text/x-python",
   "name": "python",
   "nbconvert_exporter": "python",
   "pygments_lexer": "ipython3",
   "version": "3.11.13"
  }
 },
 "nbformat": 4,
 "nbformat_minor": 5
}
